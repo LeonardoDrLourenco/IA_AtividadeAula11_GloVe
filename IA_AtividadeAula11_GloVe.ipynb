{
  "nbformat": 4,
  "nbformat_minor": 0,
  "metadata": {
    "colab": {
      "provenance": [],
      "authorship_tag": "ABX9TyN+al5M8CrR5UCkz07bDuZ2",
      "include_colab_link": true
    },
    "kernelspec": {
      "name": "python3",
      "display_name": "Python 3"
    },
    "language_info": {
      "name": "python"
    }
  },
  "cells": [
    {
      "cell_type": "markdown",
      "metadata": {
        "id": "view-in-github",
        "colab_type": "text"
      },
      "source": [
        "<a href=\"https://colab.research.google.com/github/LeonardoDrLourenco/IA_AtividadeAula11_GloVe/blob/main/IA_AtividadeAula11_GloVe.ipynb\" target=\"_parent\"><img src=\"https://colab.research.google.com/assets/colab-badge.svg\" alt=\"Open In Colab\"/></a>"
      ]
    },
    {
      "cell_type": "code",
      "execution_count": 1,
      "metadata": {
        "id": "ceFNeMmSw1gv"
      },
      "outputs": [],
      "source": [
        "import gensim.downloader as api"
      ]
    },
    {
      "cell_type": "code",
      "source": [
        "# Carregar embeddings GloVe pré-treinados\n",
        "glove_model = api.load(\"glove-wiki-gigaword-100\")\n",
        "\n",
        "# Obter vetor de palavra para uma palavra específica\n",
        "word_vector = glove_model['futebol']\n",
        "print(\"Vetor GloVe para a palavra 'futebol':\", word_vector)\n",
        "\n",
        "# Encontrar palavras mais similares\n",
        "similar_words = glove_model.most_similar('futebol', topn=5)\n",
        "print(\"Palavras mais similares a 'futebol':\", similar_words)"
      ],
      "metadata": {
        "colab": {
          "base_uri": "https://localhost:8080/"
        },
        "id": "FHSJICfrxHQA",
        "outputId": "440a1237-32a5-4311-c40d-0c0da1e28c12"
      },
      "execution_count": 2,
      "outputs": [
        {
          "output_type": "stream",
          "name": "stdout",
          "text": [
            "[==================================================] 100.0% 128.1/128.1MB downloaded\n",
            "Vetor GloVe para a palavra 'futebol': [-0.39929   -1.5596    -0.32912   -0.43234   -0.1634     1.282\n",
            "  0.57459    0.51204   -0.028376  -0.061552   0.59946   -0.63051\n",
            "  0.18237   -0.16698   -0.5057    -0.1339     1.9887     0.83662\n",
            "  1.3372    -0.3399    -0.7801    -0.37792   -0.23778    0.6584\n",
            " -0.86474    0.25729   -0.87509   -0.58825    0.59847   -0.17309\n",
            " -0.77959    0.41854    0.46353   -0.09455    1.0929     0.15598\n",
            " -0.48275   -0.64589   -0.4242    -0.52963    1.2889     1.2759\n",
            " -0.34592   -0.77425   -0.78427    0.78244    0.90688    0.083\n",
            " -0.54613    0.10089   -0.471      0.95038   -0.46348   -0.23806\n",
            " -0.88098    0.99325   -0.68619   -0.085707  -0.15299   -0.094244\n",
            " -0.091292  -0.21017   -1.0073    -1.6404     0.31856    1.6634\n",
            "  0.38109   -0.90469    0.68376    0.61787   -0.19972    0.75064\n",
            "  0.81357   -0.63427   -0.81774   -0.87443   -0.33609   -0.49682\n",
            " -0.21158   -0.18507   -0.46222   -0.25016   -0.57686   -0.25824\n",
            " -0.77266   -0.62298   -0.76962    0.69687    0.7855     0.41555\n",
            " -0.35736    0.19001    0.83777    0.2708     0.086617   0.11181\n",
            " -1.0533     0.0057449  0.89486   -0.16788  ]\n",
            "Palavras mais similares a 'futebol': [('clube', 0.8506207466125488), ('esporte', 0.7698981165885925), ('regatas', 0.6285207271575928), ('união', 0.6247397661209106), ('associação', 0.6102759838104248)]\n"
          ]
        }
      ]
    }
  ]
}